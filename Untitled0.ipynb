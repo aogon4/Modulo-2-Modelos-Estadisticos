{
  "nbformat": 4,
  "nbformat_minor": 0,
  "metadata": {
    "colab": {
      "provenance": []
    },
    "kernelspec": {
      "name": "python3",
      "display_name": "Python 3"
    },
    "language_info": {
      "name": "python"
    }
  },
  "cells": [
    {
      "cell_type": "markdown",
      "source": [
        "Verificar que Si $X\\sim Unif(x_{1},\\dots,x_{n})$, en este caso, se tiene:\n",
        "\t$$\\mathbb{E}[X] = \\sum_{k}kf_{X}(k)=\\frac{x_n + x_1}{2}.$$\n",
        "\ty\n",
        "\t$$\\text{Var}(X) = \\mathbb{E}[(X-\\mathbb{E}[X])^{2}] =\\sum_{k}(k-\\mathbb{E}[X])^{2}f_{X}(k)=\\frac{(x_n - x_1+1)^2-1}{12}$$\n",
        "\n",
        "Esto es **FALSO**.\n",
        "\n",
        "Basta con hacer un ejemplo donde $x_{1}=3$, $x_{2}=12$ y  $x_{3}=15$\n",
        "Entonces tendríamos que:\n",
        "\n",
        "$$\\mathbb{E}[X] = \\sum_{i}x_{i}f_{X}(x_i)=\\frac{3}{3}+\\frac{12}{3}+\\frac{15}{3}$$\n",
        "$$\\mathbb{E}[X] = 1+4+5$$\n",
        "$$\\mathbb{E}[X] = 10$$\n",
        "\n",
        "Y si quisieramos aplicar la fórmula, esta nos diría que $\\mathbb{E}[X] = \\frac{15+3}{2} =\\frac{18}{2}=9$.\n",
        "\n",
        "Sin embargo esta fórmula solo es válida cuando las $x_{i}$ estén equidistantes entre si, es decir que si tenemos $x_{1}, ... , x_{n}$ entonces\n",
        "$\\forall i $  se cumple que $|x_{i}-x_{i-1}| = k $, donde k es una constante.\n",
        "\n",
        "Y donde k cumple que\n",
        "\n",
        "$$k=\\frac{x_n-x_1}{n-1}$$\n",
        "\n",
        "Entonces cada $$x_i = x_1+(i-1)*k$$\n",
        "\n",
        "$$\\mathbb{E}[X] = \\sum_{i}x_{i}f_{X}(k) = \\sum_{i}\\frac{1}{n}x_i = \\frac{1}{n}\\sum_{i} [x_1+\\frac{(i-1)*(x_n-x_1)}{n-1}]$$\n",
        "\n",
        "$$\\frac{1}{n}\\sum_{i}[x_1+\\frac{(i-1)*(x_n-x_1)}{n-1}] =\\frac{1}{n}[nx_1+\\frac{x_n-x_1}{n-1}*\\sum_{i}(i-1) ]$$\n",
        "\n",
        "Donde $\\sum_{i}(i-1) = \\frac{n(n-1)}{2} $. Por lo tanto\n",
        "\n",
        "$$\\mathbb{E}[X] = \\frac{1}{n}[nx_1+\\frac{x_n-x_1}{n-1}*\\frac{n(n-1)}{2}]$$\n",
        "$$\\mathbb{E}[X] = \\frac{1}{n}[nx_1+\\frac{n(x_n-x_1)}{2}]$$\n",
        "$$\\mathbb{E}[X] = x_1+\\frac{x_n-x_1}{2}$$\n",
        "$$\\mathbb{E}[X] = \\frac{x_n+x_1}{2}$$\n",
        "\n",
        "Ahora vamos a probar :\n",
        "$$\\text{Var}(X) = \\mathbb{E}[(X-\\mathbb{E}[X])^{2}] =\\sum_{k}(k-\\mathbb{E}[X])^{2}f_{X}(k)=\\frac{(x_n - x_1+1)^2-1}{12}$$\n",
        "\n",
        "Esta formula solo funciona cuando k = 1, es decir que la distancia entre las $x_i$ sea de 1, sustituimos $\\mathbb{E}[X] =\\frac{x_n+x_1}{2} $\n",
        "\n",
        "$$\\text{Var}(X) =\\sum_{i}[x_i-\\frac{x_n+x_1}{2}]^{2}\\frac{1}{n}$$\n",
        "\n",
        "$$\\text{Var}(X) =\\frac{1}{n}\\sum_{i}[x_1+(i-1)-\\frac{x_n+x_1}{2}]^{2}$$\n",
        "\n",
        "$$\\text{Var}(X) =\\frac{1}{n}\\sum_{i}[\\frac{x_1-x_n}{2}+i-1]^{2}$$\n",
        "\n",
        "$$\\text{Var}(X) =\\frac{1}{n}\\sum_{i}[\\frac{x_1-x_n}{2}+i-1]^{2}$$\n",
        "\n",
        "$$\\text{Var}(X) =\\frac{1}{n}\\sum_{i}[\\frac{(x_1-x_n)^2}{4}+i^2+1+i(x_1-x_n)-(x_1-x_n)-2i]$$\n",
        "\n",
        "$$\\text{Var}(X) =\\frac{1}{n}[\\frac{n(x_1-x_n)^2}{4}+\\frac{n(n+1)(2n+1)}{6}+n+\\frac{n(n+1)(x_1-x_n)}{2}-n(x_1-x_n)-\\frac{2n(n+1)}{2}]$$\n",
        "\n",
        "$$\\text{Var}(X) =\\frac{(x_1-x_n)^2}{4}+\\frac{(n+1)(2n+1)}{6}+1+\\frac{(n+1)(x_1-x_n)}{2}-(x_1-x_n)-(n+1)$$\n",
        "\n",
        "\n",
        "$$\\text{Var}(X) =\\frac{(x_n - x_1+1)^2-1}{12}$$\n",
        "\n"
      ],
      "metadata": {
        "id": "F6rKzNLWnbxd"
      }
    }
  ]
}