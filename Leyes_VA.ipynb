{
  "nbformat": 4,
  "nbformat_minor": 0,
  "metadata": {
    "colab": {
      "provenance": []
    },
    "kernelspec": {
      "name": "python3",
      "display_name": "Python 3"
    },
    "language_info": {
      "name": "python"
    }
  },
  "cells": [
    {
      "cell_type": "markdown",
      "source": [
        "# 1.Calcular la ley de las siguientes variables aleatorias\n",
        "*   La diferencia de las caras es mayor que 1\n",
        "*   La suma de las caras sea par\n",
        "\n",
        "\n",
        "\n",
        "\n"
      ],
      "metadata": {
        "id": "0SmlRcFizUFo"
      }
    },
    {
      "cell_type": "code",
      "source": [
        "# Importamos las librerías\n",
        "import numpy as np\n",
        "import matplotlib.pyplot as plt\n",
        "from itertools import product\n",
        ""
      ],
      "metadata": {
        "id": "tR3O8Wrr2A6f"
      },
      "execution_count": 10,
      "outputs": []
    },
    {
      "cell_type": "code",
      "execution_count": 11,
      "metadata": {
        "id": "5eFaL0kbzTOK"
      },
      "outputs": [],
      "source": [
        "L = [i for i in range(1,7)] #Lista por comprensión\n",
        "Omega = set(product(L, repeat=2))\n",
        "# Omega"
      ]
    },
    {
      "cell_type": "code",
      "source": [
        "from fractions import Fraction as frac\n",
        "def p(E): #E un evento\n",
        "  p = frac(len(E),len(Omega))\n",
        "  return p"
      ],
      "metadata": {
        "id": "xt5zwnWo2_DF"
      },
      "execution_count": 12,
      "outputs": []
    },
    {
      "cell_type": "code",
      "source": [
        "# Definimos el evento tal que considere las diferencias mayores a 1\n",
        "from collections import defaultdict\n",
        "dS = defaultdict(set) #lista\n",
        "S1 = {(i, j): abs(i - j) for i, j in Omega if abs(i - j) > 1}\n",
        "S1c = Omega.difference(S1)\n",
        "print(f\"El evento S1 es: {S1}\")\n",
        "print(f\"El evento S1c es: {S1c}\")"
      ],
      "metadata": {
        "colab": {
          "base_uri": "https://localhost:8080/"
        },
        "id": "bHqnrshS5fmr",
        "outputId": "7fb32e07-2320-4c27-d3a7-742c1d9ae7aa"
      },
      "execution_count": 13,
      "outputs": [
        {
          "output_type": "stream",
          "name": "stdout",
          "text": [
            "El evento S1 es: {(3, 1): 2, (4, 6): 2, (5, 1): 4, (1, 6): 5, (2, 5): 3, (1, 3): 2, (6, 2): 4, (4, 2): 2, (3, 6): 3, (5, 3): 2, (2, 4): 2, (1, 5): 4, (6, 1): 5, (6, 4): 2, (4, 1): 3, (3, 5): 2, (5, 2): 3, (1, 4): 3, (2, 6): 4, (6, 3): 3}\n",
            "El evento S1c es: {(4, 4), (1, 2), (5, 5), (3, 4), (6, 5), (4, 3), (2, 1), (5, 4), (1, 1), (2, 3), (4, 5), (3, 3), (5, 6), (2, 2), (6, 6), (3, 2)}\n"
          ]
        }
      ]
    },
    {
      "cell_type": "code",
      "source": [
        "# Verificamos que la probabilidad de la suma de eventos sea 1\n",
        "print(p(S1)+p(S1c))"
      ],
      "metadata": {
        "colab": {
          "base_uri": "https://localhost:8080/"
        },
        "id": "Nj6ogZxk5jhU",
        "outputId": "0d3a5614-6ae6-4a6a-ad3e-25a4582f74e7"
      },
      "execution_count": 14,
      "outputs": [
        {
          "output_type": "stream",
          "name": "stdout",
          "text": [
            "1\n"
          ]
        }
      ]
    },
    {
      "cell_type": "code",
      "source": [
        "# Gráfico de barras mostrando la cantidad de eventos en S1 y S1c\n",
        "eventos = ['Diferencia > 1', 'Diferencia <= 1']\n",
        "frecuencias = [len(S1), len(S1c)]\n",
        "\n",
        "# Crear gráfico de barras\n",
        "plt.bar(eventos, frecuencias, color=['orangered', 'royalblue'])\n",
        "plt.title('Densidad de diferencia de las Caras')\n",
        "plt.xlabel('Evento')\n",
        "plt.ylabel('Frecuencia')\n",
        "plt.show()"
      ],
      "metadata": {
        "colab": {
          "base_uri": "https://localhost:8080/",
          "height": 472
        },
        "id": "dkWqd6Zp5qtv",
        "outputId": "a5da6828-c421-408b-e5d2-34bbacffb394"
      },
      "execution_count": 27,
      "outputs": [
        {
          "output_type": "display_data",
          "data": {
            "text/plain": [
              "<Figure size 640x480 with 1 Axes>"
            ],
            "image/png": "[encoded data removed]"
          },
          "metadata": {}
        }
      ]
    },
    {
      "cell_type": "code",
      "source": [
        "\n",
        "S2 = {(i, j) for i, j in Omega if abs(i - j) > 1 and (i + j) % 2 == 0}\n",
        "\n",
        "# Complemento de S1: eventos donde la diferencia es <= 1 o la suma es impar\n",
        "S2c = Omega.difference(S2)\n",
        "\n",
        "print(f\"El evento S1 es: {S2}\")\n",
        "print(f\"El evento S1c es: {S2c}\")"
      ],
      "metadata": {
        "colab": {
          "base_uri": "https://localhost:8080/"
        },
        "id": "IqkCXFzv6FoF",
        "outputId": "e0ecca8b-ce18-4ef2-a26d-68377ba6854a"
      },
      "execution_count": 22,
      "outputs": [
        {
          "output_type": "stream",
          "name": "stdout",
          "text": [
            "El evento S1 es: {(6, 2), (2, 4), (1, 5), (3, 1), (4, 6), (5, 1), (4, 2), (6, 4), (2, 6), (5, 3), (1, 3), (3, 5)}\n",
            "El evento S1c es: {(3, 4), (4, 3), (5, 4), (2, 2), (1, 6), (2, 5), (6, 5), (4, 5), (3, 3), (5, 6), (3, 6), (1, 2), (2, 1), (6, 1), (3, 2), (4, 1), (5, 2), (4, 4), (5, 5), (1, 1), (1, 4), (2, 3), (6, 6), (6, 3)}\n"
          ]
        }
      ]
    },
    {
      "cell_type": "code",
      "source": [
        "# Veamos ahora que la suma es efectivamente es 1\n",
        "print(p(S2)+p(S2c))"
      ],
      "metadata": {
        "colab": {
          "base_uri": "https://localhost:8080/"
        },
        "id": "DnG8YVQc6Wph",
        "outputId": "e0df8fac-ccba-4619-9a38-1ae727719bfa"
      },
      "execution_count": 21,
      "outputs": [
        {
          "output_type": "stream",
          "name": "stdout",
          "text": [
            "1\n"
          ]
        }
      ]
    },
    {
      "cell_type": "markdown",
      "source": [],
      "metadata": {
        "id": "phG0H6VYz1ql"
      }
    },
    {
      "cell_type": "code",
      "source": [
        "# Gráfico de barras mostrando la cantidad de eventos en S2 y S2c\n",
        "eventos = ['Suma par', 'Suma impar']\n",
        "frecuencias = [len(S2), len(S2c)]\n",
        "\n",
        "# Crear gráfico de barras\n",
        "plt.bar(eventos, frecuencias, color=['darkviolet', 'seagreen'])\n",
        "plt.title('Densidad de diferencia de las Caras')\n",
        "plt.xlabel('Evento')\n",
        "plt.ylabel('Frecuencia')\n",
        "plt.show()"
      ],
      "metadata": {
        "colab": {
          "base_uri": "https://localhost:8080/",
          "height": 472
        },
        "id": "2ZEm5OeA6iEc",
        "outputId": "0cabc7bf-cda6-4371-c5f7-906eefd42a32"
      },
      "execution_count": 29,
      "outputs": [
        {
          "output_type": "display_data",
          "data": {
            "text/plain": [
              "<Figure size 640x480 with 1 Axes>"
            ],
            "image/png": "[encoded data removed]"
          },
          "metadata": {}
        }
      ]
    }
  ]
}