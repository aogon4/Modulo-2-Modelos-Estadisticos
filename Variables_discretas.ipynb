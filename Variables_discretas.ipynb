{
  "nbformat": 4,
  "nbformat_minor": 0,
  "metadata": {
    "colab": {
      "provenance": []
    },
    "kernelspec": {
      "name": "python3",
      "display_name": "Python 3"
    },
    "language_info": {
      "name": "python"
    }
  },
  "cells": [
    {
      "cell_type": "code",
      "source": [],
      "metadata": {
        "id": "JZ9NNBQjjZhH"
      },
      "execution_count": null,
      "outputs": []
    },
    {
      "cell_type": "markdown",
      "source": [
        "<div align=\"center\">\n",
        "\n",
        "### <span style=\"font-family: 'Georgia', serif; font-size: 2em; color: #2C3E50;\"><b>UNIVERSIDAD NACIONAL AUTÓNOMA DE MÉXICO</b></span>\n",
        "\n",
        "# <span style=\"font-family: 'Georgia', serif; font-size: 2.5em; color: #2C3E50;\"><b>TÉCNICAS ESTADÍSTICAS Y MINERÍA DE DATOS</b></span>\n",
        "\n",
        "---\n",
        "\n",
        "## <span style=\"font-family: 'Georgia', serif; font-size: 2em; color: #34495E;\">Ejercicios de v.a. discretas</span>\n",
        "\n",
        "---\n",
        "\n",
        "<img src=\"https://drive.google.com/uc?export=view&id=15gJeBenxjYEpZLOGsxrjKmMTA_lbMuWR\" alt=\"Logo\" width=\"150\" style=\"border-radius: 15px; border: 2px solid #2980B9;\">\n",
        "\n",
        "<br>\n",
        "\n",
        "### <span style=\"font-family: 'Georgia', serif; font-size: 1.5em; color: #2980B9;\">EQUIPO 06:</span>\n",
        "\n",
        "<span style=\"font-family: 'Georgia', serif; font-size: 1.2em; color: #2980B9;\"><b>Ashley Pamela Texis Toledo</b></span>  \n",
        "<span style=\"font-family: 'Georgia', serif; font-size: 1.2em; color: #2980B9;\"><b>Juan Antonio Jiménez González </b></span>  \n",
        "<span style=\"font-family: 'Georgia', serif; font-size: 1.2em; color: #2980B9;\"><b>Pedro Axel Méndez López</b></span>  \n",
        "<span style=\"font-family: 'Georgia', serif; font-size: 1.2em; color: #2980B9;\"><b>Sandra Xochiquetzalli Hernández Nájera</b></span>  \n",
        "\n",
        "<br>\n",
        "\n",
        "### <span style=\"font-family: 'Georgia', serif; font-size: 1.2em; color: #2980B9;\">Fecha: <b>22 de septiembre de 2024</b></span>\n",
        "\n",
        "---\n",
        "\n",
        "\n",
        "</div>\n",
        "\n",
        "</div>\n"
      ],
      "metadata": {
        "id": "srxsi6I8ROSC"
      }
    },
    {
      "cell_type": "markdown",
      "source": [
        "# Variable aleatoria uniforme discreta\n",
        "\n",
        "Una variable aleatoria $X$ tiene distribución uniforme discreta en el conjunto $\\{x_{1},\\dots,x_{n}\\}$ si su función de masa de probabilidades está dada por\n",
        "$$f_{X}(k)=\\mathbb{P}(X=k)=\\begin{cases}\n",
        "\\frac{1}{n} &\\quad \\text{si } k\\in\\{x_{1},\\dots,x_{n}\\} \\\\\n",
        "0 &\\quad \\text{en otro caso}\n",
        "\\end{cases}$$\n",
        "\n",
        "**Notación:** $X\\sim Unif(x_{1},\\dots,x_{n}).$\n",
        "\n",
        "Se llama uniforme porque cada uno de los posibles valores de $X$ tienen la misma probabilidad.\n",
        "\n",
        "Si $X\\sim Unif(x_{1},\\dots,x_{n})$, en este caso, se tiene:\n",
        "\t$$\\mathbb{E}[X] = \\sum_{k}kf_{X}(k)=\\frac{x_n + x_1}{2}.$$\n",
        "\ty\n",
        "\t$$\\text{Var}(X) = \\mathbb{E}[(X-\\mathbb{E}[X])^{2}] =\\sum_{k}(k-\\mathbb{E}[X])^{2}f_{X}(k)=\\frac{(x_n - x_1+1)^2-1}{12}$$\n",
        "\n",
        "$\\color{red}{\\text{Ejercicio 1.}}$ Verifica que, en efecto, la esperanza y varianza de una variable aleatoria uniforme está dada como antes."
      ],
      "metadata": {
        "id": "vD65lWgvTZZp"
      }
    },
    {
      "cell_type": "markdown",
      "source": [
        "$\\color{limegreen}{\\text{Solución:}}$\n",
        "\n",
        "Dada una variable aleatoria  $X \\sim Unif(x_{1}, \\dots, x_{n})$, donde su función de masa de probabilidad está dada por:\n",
        "\n",
        "$$\n",
        "f_{X}(k) = \\mathbb{P}(X = k) =\n",
        "\\begin{cases}\n",
        "\\frac{1}{n} & \\text{si } k \\in \\{x_{1}, \\dots, x_{n}\\}, \\\\\n",
        "0 & \\text{en otro caso}\n",
        "\\end{cases}\n",
        "$$\n",
        "\n",
        "verificamos que la esperanza $ \\mathbb{E}[X] $ y la varianza $ \\text{Var}(X) $ son como sigue:\n",
        "\n",
        "## 1. Cálculo de la esperanza\n",
        "\n",
        "La esperanza de $X$ se define como:\n",
        "\n",
        "$$\n",
        "\\mathbb{E}[X] = \\sum_{k} k f_{X}(k) = \\sum_{k} \\frac{k}{n} = \\frac{1}{n} \\sum_{k=1}^{n} x_k.\n",
        "$$\n",
        "\n",
        "Para una distribución uniforme discreta, los valores $ x_1, x_2, \\dots, x_n $ están igualmente espaciados, por lo que:\n",
        "\n",
        "$$\n",
        "\\mathbb{E}[X] =\\frac{1}{n}\\frac{n(n+1)}{2}= \\frac{x_1 + x_n}{2}.\n",
        "$$\n",
        "\n",
        "## 2. Cálculo de la varianza\n",
        "\n",
        "La varianza de $X$ se define como:\n",
        "\n",
        "$$\n",
        "\\text{Var}(X) = \\mathbb{E}[X^2] - \\mathbb{E}[X]^2\n",
        "$$\n",
        "Entonces como: $$\\mathbb{E}[X^2]=\\sum_{k} \\frac{k^2}{n} = \\frac{1}{n} \\sum_{k=1}^{n} k^2=\\frac{1}{n}\\frac{n(n+1)(2n+1)}{6}$$\n",
        "$$=\\frac{(n+1)(2n+1)}{6}=\\frac{(n+1)(2n+1)}{6}$$\n",
        "\n",
        "\n",
        "$$\n",
        "\\Rightarrow \\text{Var}(X) =\\frac{(n+1)(2n+1)}{6}-(\\frac{(n+1)}{2})^2= \\frac{4n+2-3n-3}{6}\\frac{n+1}{2}.\n",
        "$$\n",
        "$$=\\frac{n^2-1}{12}=\\frac{(x_n - x_1+1)^2-1}{12} \\blacksquare$$"
      ],
      "metadata": {
        "id": "NDnGN-4aTlYR"
      }
    },
    {
      "cell_type": "markdown",
      "source": [
        "$\\color{red}{\\text{Ejercicio 2.}}$ Dibuja a la función de distribución acumulada de la variable aleatoria:\n",
        "$$S:\\{1,2,3,4,5,6\\}^{2}\\to \\{2, 3, 4, 5, 6, 7, 8, 9, 10, 11, 12 \\}$$\n",
        "dada por\n",
        "$S(i,j)=i+j.$"
      ],
      "metadata": {
        "id": "HNhj2QZYeiat"
      }
    },
    {
      "cell_type": "markdown",
      "source": [
        "$\\color{limegreen}{\\text{Solución}}$\n",
        "Veamos que:\n",
        "$$f_S(k) = \\mathbb{P}(S = k) =\n",
        "\\begin{cases}\n",
        "\\frac{1}{36} & k = 2, \\\\\n",
        "\\frac{2}{36} & k = 3, \\\\\n",
        "\\frac{3}{36} & k = 4, \\\\\n",
        "\\frac{4}{36} & k = 5, \\\\\n",
        "\\frac{5}{36} & k = 6, \\\\\n",
        "\\frac{6}{36} & k = 7, \\\\\n",
        "\\frac{5}{36} & k = 8, \\\\\n",
        "\\frac{4}{36} & k = 9, \\\\\n",
        "\\frac{3}{36} & k = 10, \\\\\n",
        "\\frac{2}{36} & k = 11, \\\\\n",
        "\\frac{1}{36} & k = 12.\n",
        "\\end{cases}$$\n",
        "\n",
        "Por lo que la función de distribución debería ser como sigue:"
      ],
      "metadata": {
        "id": "mZE49XhzfO8E"
      }
    },
    {
      "cell_type": "code",
      "source": [
        "import numpy as np\n",
        "import matplotlib.pyplot as plt\n",
        "\n",
        "# Valores que toma la v.a\n",
        "x = np.array([2, 3, 4, 5, 6, 7, 8, 9, 10, 11, 12])\n",
        "# Probabilidades de la función de densidad\n",
        "cdf = np.cumsum([1/36, 2/36, 3/36, 4/36, 5/36, 6/36, 5/36, 4/36, 3/36, 2/36, 1/36])\n",
        "\n",
        "# Graficamos la CDF\n",
        "plt.step(x, cdf, where='post', label=\"CDF\")\n",
        "plt.xlabel('Valores de X')\n",
        "plt.ylabel('F_S(x)')\n",
        "plt.title('Función de distribución')\n",
        "plt.grid(True)\n",
        "plt.legend()\n",
        "plt.show()"
      ],
      "metadata": {
        "colab": {
          "base_uri": "https://localhost:8080/",
          "height": 472
        },
        "id": "DXvwcd3HejyA",
        "outputId": "e601215d-279a-43c8-d5a1-2b7ef4686acd"
      },
      "execution_count": null,
      "outputs": [
        {
          "output_type": "display_data",
          "data": {
            "text/plain": [
              "<Figure size 640x480 with 1 Axes>"
            ],
            "image/png": "[encoded data removed]"
          },
          "metadata": {}
        }
      ]
    },
    {
      "cell_type": "markdown",
      "source": [
        "$\\color{red}{\\text{Ejercicio 3.}}$ Usando el atributo `.cdf` [Poisson](https://docs.scipy.org/doc/scipy/reference/generated/scipy.stats.poisson.html) calcula las probabilidades anteriores. (ver notas)\n"
      ],
      "metadata": {
        "id": "GAV_kHMZgtxm"
      }
    },
    {
      "cell_type": "code",
      "source": [
        "import numpy as np\n",
        "from scipy.stats import poisson\n"
      ],
      "metadata": {
        "id": "gtLV41YRhWAU"
      },
      "execution_count": null,
      "outputs": []
    },
    {
      "cell_type": "code",
      "source": [
        "lambdap = 2\n",
        "probabilidad1 = 1 - poisson.cdf(2, lambdap)\n",
        "print(f\"La probabilidad de que ocurran más de dos accidentes es: {probabilidad1}\")\n",
        "\n",
        "probabilidad2 = 1 - poisson.pmf(0, lambdap)\n",
        "proba_condicional = probabilidad1 / probabilidad2\n",
        "print(f\"La probabilidad de que ocurran más de dos accidentes dado que ocurre al menos uno es: {proba_condicional}\")"
      ],
      "metadata": {
        "colab": {
          "base_uri": "https://localhost:8080/"
        },
        "id": "Ug73jJkchS0c",
        "outputId": "230a4569-5471-43f9-8534-0a2bf0585932"
      },
      "execution_count": null,
      "outputs": [
        {
          "output_type": "stream",
          "name": "stdout",
          "text": [
            "La probabilidad de que ocurran más de dos accidentes es: 0.3233235838169366\n",
            "La probabilidad de que ocurran más de dos accidentes dado que ocurre al menos uno es: 0.37392942900133747\n"
          ]
        }
      ]
    },
    {
      "cell_type": "markdown",
      "source": [
        "$\\color{red}{\\text{Ejercicio 4.}}$ Un examen de Estadística consta de 20 preguntas tipo test y se conoce de experiencias\n",
        "anteriores que un alumno tiene probabilidad 0.7 de contestar bien cada pregunta. Obtener:\n",
        "\n",
        "a) La probabilidad de que la primera pregunta que contesta bien sea la cuarta.\n",
        "\n",
        "b) Sabiendo que para aprobar el examen es necesario contestar bien a 10 preguntas, ¿cuál es la probabilidad de que apruebe al contestar la pregunta duodécima?"
      ],
      "metadata": {
        "id": "ord1gN4Pi4Rz"
      }
    },
    {
      "cell_type": "code",
      "source": [
        "from scipy.stats import binom\n",
        "import math"
      ],
      "metadata": {
        "id": "Qw-NtTCHkH-T"
      },
      "execution_count": null,
      "outputs": []
    },
    {
      "cell_type": "code",
      "source": [
        "##(a)\n",
        "p_r = 0.7  ##right\n",
        "p_w = 1 - p_r  ## wrong\n",
        "\n",
        "# Probabilidad de que la primera pregunta bien sea la cuarta\n",
        "proba_a = (p_w**3) * p_r\n",
        "print(f\"La probabilidad de que la primera pregunta que contesta bien sea la cuarta es: {proba_a:.4f}\")"
      ],
      "metadata": {
        "colab": {
          "base_uri": "https://localhost:8080/"
        },
        "id": "EXRexk6mkJUq",
        "outputId": "c4dda6ee-ab62-4a48-ab09-39be97a63461"
      },
      "execution_count": null,
      "outputs": [
        {
          "output_type": "stream",
          "name": "stdout",
          "text": [
            "La probabilidad de que la primera pregunta que contesta bien sea la cuarta es: 0.0189\n"
          ]
        }
      ]
    },
    {
      "cell_type": "markdown",
      "source": [
        "Veamos que la variable aleatoria es distinta, donde contestar bien una pregunta es independiente de otra tal que:\n",
        "\n",
        "Sea $ X $ el número de fallos antes del décimo éxito, donde $ X \\sim \\text{BN}(10, 0.7) $. Entonces, la probabilidad de que $ X = 2 $ se puede calcular como:\n",
        "\n",
        "$$\n",
        "P[X = 2] = \\binom{2 + 10 - 1}{2} (0.3)^2 (0.7)^{10} = \\binom{11}{2} (0.3)^2 (0.7)^{10}.\n",
        "$$\n",
        "\n",
        "Esta probabilidad se puede obtener mediante la relación con la binomial $ Y $, que es el número de éxitos en las 11 primeras pruebas, donde $ Y \\sim B(11, 0.7) $. Por lo tanto, tenemos que:\n",
        "\n",
        "$$\n",
        "P[X = 2] = P[Y = 9] \\cdot 0.7.\n",
        "$$"
      ],
      "metadata": {
        "id": "qrcinZ6fn_4H"
      }
    },
    {
      "cell_type": "code",
      "source": [
        "\n",
        "exitos = 10\n",
        "p_exito = 0.7\n",
        "fallos = 2\n",
        "\n",
        "# Cálculo de P[X = 2]\n",
        "# Usando la fórmula para la distribución negativa\n",
        "def probabilidad_negativa(fallos, exitos, prob_exito):\n",
        "    return (math.comb(fallos + exitos - 1, fallos) * (1 - prob_exito)**fallos * prob_exito**exitos)\n",
        "\n",
        "P_X_2 = probabilidad_negativa(fallos, exitos, p_exito)\n",
        "\n",
        "# Cálculo de P[Y = 9]\n",
        "n_total = exitos + fallos  # Total de pruebas\n",
        "exitos_deseados = n_total - 2  # Número de éxitos deseados (9 éxitos)\n",
        "\n",
        "# Usando la distribución binomial para Y\n",
        "P_Y_9 = binom.pmf(exitos_deseados, n_total, p_exito)\n",
        "\n",
        "\n",
        "# Cálculo de P[X = 2] usando la relación con la binomial\n",
        "P_X_2_relacion = P_Y_9 * p_exito\n",
        "print(f'P[X = 2] usando la relación: {P_X_2_relacion}')"
      ],
      "metadata": {
        "colab": {
          "base_uri": "https://localhost:8080/"
        },
        "id": "6IdiDoHkkzg_",
        "outputId": "6941c1b0-c5c8-4178-e306-6917a358bb2c"
      },
      "execution_count": null,
      "outputs": [
        {
          "output_type": "stream",
          "name": "stdout",
          "text": [
            "P[X = 2]: 0.13982524825499995\n",
            "P[Y = 9]: 0.1677902979060001\n",
            "P[X = 2] usando la relación: 0.11745320853420008\n"
          ]
        }
      ]
    },
    {
      "cell_type": "markdown",
      "source": [
        "$\\color{red}{\\text{Ejercicio 5.}}$ Investigue sobre el problema de la caja de cerillos de Banach y explique su solución.\n",
        "\n",
        "$\\color{limegreen}{Solución:}$\n",
        "Problema de la caja de cerillas de Banach: Supongamos que un matemático lleva siempre dos cajas de cerillas: una en bolsillo izquierdo y otra en el derecho. Cada vez que necesita una cerilla en cualquiera de los dos bolsillos. Supongamos que mete la mano en su bolsillo y descubre por primera vez que la caja elegida está vacía. Si se supone que cada una de las cajas de cerillas originalmente contenía\n",
        "n coincidencias,\n",
        "\n",
        "¿cuál es la probabilidad de que haya exactamente\n",
        "$k$ cerillas en la otra caja?\n",
        "\n",
        "Sin pérdida de generalidad, consideremos el caso en el que la caja de cerillos en su bolsillo derecho tiene un número ilimitado de cerillos y sea $ M $ el número de cerillos retirados de esta antes de que se descubra que la izquierda está vacía. Cuando se encuentra que el bolsillo izquierdo está vacío, el hombre ha elegido ese bolsillo $ (N + 1) $ veces. Entonces, $ M $ es el número de éxitos antes de $ (N + 1) $ fracasos en ensayos de Bernoulli con $ p = \\frac{1}{2} $, que tiene la distribución binomial negativa y así se expresa como:\n",
        "\n",
        "$$\n",
        "P[M = m] = \\binom{N + m}{m} \\left( \\frac{1}{2} \\right)^{N + 1 + m}.\n",
        "$$\n",
        "\n",
        "Regresando al problema original, vemos que la probabilidad de que el bolsillo izquierdo se encuentre vacío primero es\n",
        "\n",
        "$$\n",
        "P[M < N + 1],\n",
        "$$\n",
        "\n",
        "la cual es igual a $ \\frac{1}{2} $ porque ambos son igualmente probables. Observamos que el número $ K $ de cerillos restantes en el otro bolsillo es:\n",
        "\n",
        "$$\n",
        "P[K = k] = P[M = N - k \\mid M < N + 1] = 2 P[M = N - k] = \\binom{2N - k}{N - k} \\left( \\frac{1}{2} \\right)^{2N - k}.\n",
        "$$\n",
        "\n",
        "La expectativa de la distribución es aproximadamente $ 2 \\sqrt{\\frac{N}{\\pi}} - 1 $. (Esto se demuestra usando la aproximación de Stirling.) Así, comenzando con cajas que tienen $N = 40$  cerillos, el número esperado de cerillos en la segunda caja es 6 .\n",
        "\n",
        "De lo anterior resulta fácil inferir que la f.d.p está dada por:\n",
        "$$P[K = k] =  \\binom{2N - k}{N - k} \\left( \\frac{1}{2} \\right)^{2N - k} \\blacksquare$$\n",
        "\n"
      ],
      "metadata": {
        "id": "8UttfyRZxs8X"
      }
    },
    {
      "cell_type": "markdown",
      "source": [
        "$\\color{red}{\\text{Ejercicio 6.}}$ Una compañía petrolera realiza un estudio geológico que indica que un pozo petrolero exploratorio debería tener un 20% de posibilidades de encontrar petróleo.\n",
        "\n",
        "- ¿Cuál es la probabilidad de que el primer pozo se produzca en el tercer pozo perforado?\n",
        "\n",
        "- ¿Cuál es la probabilidad de que el tercer pozo se produzca en el séptimo pozo perforado?\n",
        "\n",
        "- ¿Cuál es la media y la varianza del número de pozos que se deben perforar si la compañía petrolera quiere establecer tres pozos productores?"
      ],
      "metadata": {
        "id": "pEszfx4o0uRm"
      }
    },
    {
      "cell_type": "markdown",
      "source": [
        "\n",
        "- ¿Cuál es la probabilidad de que el primer pozo se produzca en el tercer pozo perforado?\n",
        "    \n",
        "La probabilidad de que el primer éxito (encontrar petróleo) ocurra en el tercer pozo perforado se puede calcular utilizando la distribución geométrica:\n",
        "\n",
        "$$\n",
        "P(X = k) = (1 - p)^{k-1} p,\n",
        "$$\n",
        "\n",
        "donde \\( p = 0.2 \\) es la probabilidad de éxito y \\( k = 3 \\). Entonces,\n",
        "\n",
        "$$\n",
        "P(X = 3) = (1 - 0.2)^{3-1} \\cdot 0.2 = (0.8)^{2} \\cdot 0.2 = 0.32 \\cdot 0.2 = 0.064.\n",
        "$$\n",
        "\n",
        "¿Cuál es la probabilidad de que el tercer pozo se produzca en el séptimo pozo perforado?\n",
        "    \n",
        "La probabilidad de que el tercer éxito ocurra en el séptimo pozo perforado sigue la distribución binomial negativa. La fórmula es:\n",
        "$$\n",
        "P(X = k) = \\binom{k-1}{r-1} p^r (1-p)^{k-r},\n",
        "$$\n",
        "\n",
        "donde \\( r = 3 \\) (número de éxitos deseados) y \\( k = 7 \\) (número total de ensayos). Por lo tanto, se tiene:\n",
        "\n",
        "$$\n",
        "P(X = 7) = \\binom{7-1}{3-1} (0.2)^3 (0.8)^{7-3} = \\binom{6}{2} (0.2)^3 (0.8)^4.\n",
        "$$\n",
        "\n",
        "Calculando:\n",
        "\n",
        "$$\n",
        "\\binom{6}{2} = 15, \\quad (0.2)^3 = 0.008, \\quad (0.8)^4 = 0.4096.\n",
        "$$\n",
        "\n",
        "Entonces,\n",
        "\n",
        "$$\n",
        "P(X = 7) = 15 \\cdot 0.008 \\cdot 0.4096 = 15 \\cdot 0.0032768 \\approx 0.049152.\n",
        "$$\n",
        "\n",
        "- ¿Cuál es la media y la varianza del número de pozos que se deben perforar si la compañía petrolera quiere establecer tres pozos productores?\n",
        "    \n",
        "Para la distribución binomial negativa, la media y la varianza se pueden calcular como:\n",
        "\n",
        "- Media:\n",
        "\n",
        "$$\n",
        "\\mu = \\frac{r}{p} = \\frac{3}{0.2} = 15.\n",
        "$$\n",
        "\n",
        "- Varianza:\n",
        "\n",
        "$$\n",
        "\\sigma^2 = \\frac{r(1-p)}{p^2} = \\frac{3(0.8)}{(0.2)^2} = \\frac{3 \\cdot 0.8}{0.04} = 60.\n",
        "$$\n",
        "\n"
      ],
      "metadata": {
        "id": "X2K28SjZ0ugN"
      }
    }
  ]
}