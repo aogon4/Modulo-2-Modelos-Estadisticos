{
  "nbformat": 4,
  "nbformat_minor": 0,
  "metadata": {
    "colab": {
      "provenance": []
    },
    "kernelspec": {
      "name": "python3",
      "display_name": "Python 3"
    },
    "language_info": {
      "name": "python"
    }
  },
  "cells": [
    {
      "cell_type": "markdown",
      "source": [
        "<div align=\"center\">\n",
        "\n",
        "### <span style=\"font-family: 'Georgia', serif; font-size: 2em; color: #2C3E50;\"><b>UNIVERSIDAD NACIONAL AUTÓNOMA DE MÉXICO</b></span>\n",
        "\n",
        "# <span style=\"font-family: 'Georgia', serif; font-size: 2.5em; color: #2C3E50;\"><b>TÉCNICAS ESTADÍSTICAS Y MINERÍA DE DATOS</b></span>\n",
        "\n",
        "---\n",
        "\n",
        "## <span style=\"font-family: 'Georgia', serif; font-size: 2em; color: #34495E;\">EJERCICIO DE LANZAMIENTO DE UNA MONEDA</span>\n",
        "\n",
        "---\n",
        "\n",
        "<img src=\"https://drive.google.com/uc?export=view&id=15gJeBenxjYEpZLOGsxrjKmMTA_lbMuWR\" alt=\"Logo\" width=\"150\" style=\"border-radius: 15px; border: 2px solid #2980B9;\">\n",
        "\n",
        "<br>\n",
        "\n",
        "### <span style=\"font-family: 'Georgia', serif; font-size: 1.5em; color: #2980B9;\">EQUIPO 06:</span>\n",
        "\n",
        "<span style=\"font-family: 'Georgia', serif; font-size: 1.2em; color: #2980B9;\"><b>Ashley Pamela Texis Toledo</b></span>  \n",
        "<span style=\"font-family: 'Georgia', serif; font-size: 1.2em; color: #2980B9;\"><b>Juan Antonio Jiménez González </b></span>  \n",
        "<span style=\"font-family: 'Georgia', serif; font-size: 1.2em; color: #2980B9;\"><b>Pedro Axel Méndez López</b></span>  \n",
        "<span style=\"font-family: 'Georgia', serif; font-size: 1.2em; color: #2980B9;\"><b>Sandra Xochiquetzalli Hernández Nájera</b></span>  \n",
        "\n",
        "<br>\n",
        "\n",
        "### <span style=\"font-family: 'Georgia', serif; font-size: 1.2em; color: #2980B9;\">Fecha: <b>31 de agosto de 2024</b></span>\n",
        "\n",
        "---\n",
        "\n",
        "</div>\n",
        "\n",
        "</div>"
      ],
      "metadata": {
        "id": "YwzjfzirsPEi"
      }
    },
    {
      "cell_type": "markdown",
      "source": [
        "## Modelo de probabilidad Laplaciano (clásico):\n",
        "\n",
        "**Ejemplo** Se lanza una moneda 3 veces, de manera independiente (es decir, el lanzamienro $i$-ésimo no afecta al siguiente $i+1$).\n",
        "Tenemos que el espacio muestral de este experiemto es:\n",
        "\n",
        "$$ \\Omega = \\{A,S\\}×\\{A,S\\}×\\{A,S\\} = \\{A,S\\}^{3}$$\n",
        "donde\n",
        "$$\\#\\Omega = 2^{3} = 8.$$\n",
        "\n",
        "Sea $E$ un evento, entonces la probabilidad de $E$ se calcula como sigue:\n",
        "$$\\mathbb{P}(E) = \\frac{\\#E}{\\#\\Omega}$$\n",
        "\n",
        "---"
      ],
      "metadata": {
        "id": "1wlYF5kZykPK"
      }
    },
    {
      "cell_type": "code",
      "execution_count": null,
      "metadata": {
        "colab": {
          "base_uri": "https://localhost:8080/"
        },
        "id": "I60LDZthsN84",
        "outputId": "de3bccdc-165c-4c6a-e0f9-0ef8886213fe"
      },
      "outputs": [
        {
          "output_type": "execute_result",
          "data": {
            "text/plain": [
              "{('A', 'A', 'A'),\n",
              " ('A', 'A', 'S'),\n",
              " ('A', 'S', 'A'),\n",
              " ('A', 'S', 'S'),\n",
              " ('S', 'A', 'A'),\n",
              " ('S', 'A', 'S'),\n",
              " ('S', 'S', 'A'),\n",
              " ('S', 'S', 'S')}"
            ]
          },
          "metadata": {},
          "execution_count": 1
        }
      ],
      "source": [
        "# Para crear a Omega (el espacio muestral), necesitamos una librería\n",
        "\n",
        "import itertools as it#importamos el módulo\n",
        "\n",
        "Omega = set(it.product({\"A\",\"S\"},repeat=3))\n",
        "Omega"
      ]
    },
    {
      "cell_type": "markdown",
      "source": [
        "Consideremos los siguientes eventos:\n",
        "1. A: todos los resultado son águila\n",
        "2. S: todos los resultados son soles\n",
        "3. E: Por lo menos un resultado es sol  \n",
        "\n",
        "Sea el evento $A_{i}$ donde cae águila en el $i$-ésimo resultado. Así, tenemos\n",
        "\n",
        "$$A = A_{1} \\cap A_{2} \\cap A_{3}$$\n",
        "\n",
        "Sea el evento $S_{i}$ donde caen soles en el $i$-ésimo resultado. Así, tenemos\n",
        "\n",
        "$$S = S_{1} \\cap S_{2} \\cap S_{3}$$\n",
        "\n",
        "Y veamos que el evento\n",
        "$$ E = A^c$$\n",
        "\n",
        "Pues si cae al menos un sol quiere decir que no todos los resultados son águila $\\blacksquare$"
      ],
      "metadata": {
        "id": "-v6VCqWBzCXs"
      }
    },
    {
      "cell_type": "markdown",
      "source": [
        "### *DEFINIMOS LOS EVENTOS*"
      ],
      "metadata": {
        "id": "FeWPQaB7z05h"
      }
    },
    {
      "cell_type": "markdown",
      "source": [
        "#### Evento \"A\""
      ],
      "metadata": {
        "id": "lO-PhBqX3BKr"
      }
    },
    {
      "cell_type": "code",
      "source": [
        "A_1 = {om for om in Omega if om[0] == \"A\"}  # La primera coordenada es \"A\"\n",
        "A_2 = {om for om in Omega if om[1] == \"A\"}  # La segunda coordenada es \"A\"\n",
        "A_3 = {om for om in Omega if om[2] == \"A\"}  # La tercera coordenada es \"A\"\n",
        "\n",
        "# Imprimir cada conjunto con texto concatenado\n",
        "print(f\"El evento A1 es: {A_1}\")\n",
        "print(f\"El evento A2 es: {A_2}\")\n",
        "print(f\"El evento A3 es: {A_3}\")"
      ],
      "metadata": {
        "colab": {
          "base_uri": "https://localhost:8080/"
        },
        "id": "LYTlB1Fcz-IW",
        "outputId": "be2e9f94-a70c-4dff-f0ac-08b23e04f6cb"
      },
      "execution_count": null,
      "outputs": [
        {
          "output_type": "stream",
          "name": "stdout",
          "text": [
            "El evento A1 es: {('A', 'A', 'A'), ('A', 'A', 'S'), ('A', 'S', 'A'), ('A', 'S', 'S')}\n",
            "El evento A2 es: {('S', 'A', 'S'), ('A', 'A', 'A'), ('A', 'A', 'S'), ('S', 'A', 'A')}\n",
            "El evento A3 es: {('S', 'A', 'A'), ('A', 'A', 'A'), ('S', 'S', 'A'), ('A', 'S', 'A')}\n"
          ]
        }
      ]
    },
    {
      "cell_type": "code",
      "source": [
        "A = A_1.intersection(A_2.intersection(A_3))  # Intersectamos los eventos A_i\n",
        "print(f\"El evento A es el siguiente: {A}\")"
      ],
      "metadata": {
        "colab": {
          "base_uri": "https://localhost:8080/"
        },
        "id": "fadY6_0V1yeA",
        "outputId": "98622630-2b23-4036-d530-07e89114e528"
      },
      "execution_count": null,
      "outputs": [
        {
          "output_type": "stream",
          "name": "stdout",
          "text": [
            "El evento A es el siguiente: {('A', 'A', 'A')}\n"
          ]
        }
      ]
    },
    {
      "cell_type": "markdown",
      "source": [
        "#### Evento \"S\""
      ],
      "metadata": {
        "id": "2bUXf8JI1ftr"
      }
    },
    {
      "cell_type": "code",
      "source": [
        "S_1 = {om for om in Omega if om[0] == \"S\"}  # La primera coordenada es \"S\"\n",
        "S_2 = {om for om in Omega if om[1] == \"S\"}  # La segunda coordenada es \"S\"\n",
        "S_3 = {om for om in Omega if om[2] == \"S\"}  # La tercera coordenada es \"S\"\n",
        "\n",
        "# Imprimir cada conjunto con texto concatenado\n",
        "print(f\"El evento S1 es: {S_1}\")\n",
        "print(f\"El evento S2 es: {S_2}\")\n",
        "print(f\"El evento S3 es: {S_3}\")"
      ],
      "metadata": {
        "colab": {
          "base_uri": "https://localhost:8080/"
        },
        "id": "j7pPeJoR3MpO",
        "outputId": "fd77f9f0-f5a0-4108-cca4-c541bd8b8bc8"
      },
      "execution_count": null,
      "outputs": [
        {
          "output_type": "stream",
          "name": "stdout",
          "text": [
            "El evento S1 es: {('S', 'A', 'A'), ('S', 'A', 'S'), ('S', 'S', 'A'), ('S', 'S', 'S')}\n",
            "El evento S2 es: {('S', 'S', 'A'), ('S', 'S', 'S'), ('A', 'S', 'A'), ('A', 'S', 'S')}\n",
            "El evento S3 es: {('S', 'A', 'S'), ('A', 'A', 'S'), ('S', 'S', 'S'), ('A', 'S', 'S')}\n"
          ]
        }
      ]
    },
    {
      "cell_type": "code",
      "source": [
        "S = S_1.intersection(S_2.intersection(S_3))  # Intersectamos los eventos A_i\n",
        "print(f\"El evento S es el siguiente: {S}\")"
      ],
      "metadata": {
        "colab": {
          "base_uri": "https://localhost:8080/"
        },
        "id": "WrbUuJ5z3dYS",
        "outputId": "c72caeaf-6bb7-4a6b-ddcc-35b8201a432d"
      },
      "execution_count": null,
      "outputs": [
        {
          "output_type": "stream",
          "name": "stdout",
          "text": [
            "El evento A es el siguiente: {('S', 'S', 'S')}\n"
          ]
        }
      ]
    },
    {
      "cell_type": "markdown",
      "source": [
        "#### EVENTO \"E\""
      ],
      "metadata": {
        "id": "6wSHPBdU3L7A"
      }
    },
    {
      "cell_type": "code",
      "source": [
        "E = Omega.difference(A)\n",
        "print(f\"El evento E es el siguiente: {E}\")"
      ],
      "metadata": {
        "colab": {
          "base_uri": "https://localhost:8080/"
        },
        "id": "YGCK-OBs30-b",
        "outputId": "9b42ad60-3755-4450-d5e9-6193d72b411f"
      },
      "execution_count": null,
      "outputs": [
        {
          "output_type": "stream",
          "name": "stdout",
          "text": [
            "El evento E es el siguiente: {('S', 'A', 'S'), ('S', 'S', 'A'), ('A', 'S', 'A'), ('S', 'A', 'A'), ('A', 'A', 'S'), ('S', 'S', 'S'), ('A', 'S', 'S')}\n"
          ]
        }
      ]
    },
    {
      "cell_type": "markdown",
      "source": [
        " ####  Finalmente definimos la función de probabilidad $\\mathbb{P}$"
      ],
      "metadata": {
        "id": "wZVxhOK14Q7I"
      }
    },
    {
      "cell_type": "code",
      "source": [
        "from fractions import Fraction as frac\n",
        "\n",
        "def p(E): #E un evento\n",
        "  p = frac(len(E),len(Omega))\n",
        "  return p"
      ],
      "metadata": {
        "id": "1ntHAsIX4sHC"
      },
      "execution_count": null,
      "outputs": []
    },
    {
      "cell_type": "code",
      "source": [
        "## Para el punto 1\n",
        "print(f\"La probabilidad del evento A es : {p(A)}\")\n",
        "print(f\"La probabilidad del evento S es : {p(S)}\")\n",
        "print(f\"La probabilidad del evento E es : {p(E)}\")"
      ],
      "metadata": {
        "colab": {
          "base_uri": "https://localhost:8080/"
        },
        "id": "CnjqSlmx44Je",
        "outputId": "96108107-cac7-4118-862e-cd2ee4267c24"
      },
      "execution_count": null,
      "outputs": [
        {
          "output_type": "stream",
          "name": "stdout",
          "text": [
            "La probabilidad del evento A es : 1/8\n",
            "La probabilidad del evento S es : 1/8\n",
            "La probabilidad del evento E es : 7/8\n"
          ]
        }
      ]
    }
  ]
}